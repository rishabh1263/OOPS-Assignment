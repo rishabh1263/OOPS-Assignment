{
 "cells": [
  {
   "cell_type": "markdown",
   "id": "9039d7b0",
   "metadata": {},
   "source": [
    "## THEORY QUESTIONS"
   ]
  },
  {
   "cell_type": "markdown",
   "id": "6f76fe88",
   "metadata": {},
   "source": [
    "## Q1: What is Object-Oriented Programming (OOP)+\n",
    "ANS:\n",
    "    Object-Oriented Programming (OOP) is a programming paradigm based on the concept of objects, which encapsulate data and behavior. It promotes modularity, reusability, and scalability through key principles:\n",
    "\n",
    "Encapsulation – Bundling data and methods together.\n",
    "\n",
    "Abstraction – Hiding implementation details, exposing only essential features.\n",
    "\n",
    "Inheritance – Enabling code reuse by deriving new classes from existing ones.\n",
    "\n",
    "Polymorphism – Allowing methods to have different behaviors based on the object.\n",
    "\n",
    "OOP enhances code maintainability and efficiency, making it widely used in software development."
   ]
  },
  {
   "cell_type": "markdown",
   "id": "eef4af7c",
   "metadata": {},
   "source": [
    "## Q2: WHat is class in OOPS+?\n",
    "ANS:\n",
    "    A class in Object-Oriented Programming (OOP) is a blueprint for creating objects. It defines attributes (data members) and behaviors (methods) that objects of that class will have.\n",
    "\n",
    "Example in Python:\n",
    "\n",
    "python\n",
    "Copy\n",
    "Edit\n",
    "class Car:\n",
    "    def __init__(self, brand, model):\n",
    "        self.brand = brand\n",
    "        self.model = model\n",
    "    \n",
    "    def display(self):\n",
    "        print(f\"Car: {self.brand} {self.model}\")\n",
    "\n",
    "car1 = Car(\"Tesla\", \"Model S\")\n",
    "car1.display()\n",
    "This creates a Car class and an object (car1) from it."
   ]
  },
  {
   "cell_type": "markdown",
   "id": "4a0e0d89",
   "metadata": {},
   "source": [
    "## Q3:  What is an object in OOP+\n",
    "ANS:\n",
    "    An object in OOP is an instance of a class that encapsulates data (attributes) and behavior (methods). It represents a real-world entity and interacts with other objects through methods."
   ]
  },
  {
   "cell_type": "markdown",
   "id": "430e78de",
   "metadata": {},
   "source": [
    "## Q4 : What is the difference between abstraction and encapsulation+\n",
    "ANS: \n",
    "    Abstraction and Encapsulation are both OOP principles but serve different purposes:\n",
    "\n",
    "Abstraction: Hides implementation details and only shows the necessary features. Achieved using abstract classes and interfaces. Example: A car’s driver only sees the steering and pedals, not the internal mechanics.\n",
    "\n",
    "Encapsulation: Hides data by restricting direct access and modifying it through methods. Achieved using access modifiers (private, public, protected). Example: Car engine details are hidden, and only the start button is accessible.\n",
    "\n",
    "\n",
    "\n",
    "\n",
    "\n",
    "\n",
    "\n",
    "\n"
   ]
  },
  {
   "cell_type": "markdown",
   "id": "b7093884",
   "metadata": {},
   "source": [
    "## Q5 : What are dunder methods in Python+\n",
    "ANS:\n",
    "    Dunder (double underscore) methods in Python, also known as magic methods, are special methods with names surrounded by double underscores (e.g., __init__, __str__, __len__). They enable operator overloading, custom object behavior, and interaction with Python’s built-in features.\n",
    "\n",
    "Common dunder methods:\n",
    "\n",
    "__init__(self, ...) → Constructor\n",
    "\n",
    "__str__(self) → String representation\n",
    "\n",
    "__len__(self) → Length of an object\n",
    "\n",
    "__call__(self, ...) → Make an object callable\n",
    "\n",
    "__getitem__(self, key) → Indexing support\n",
    "\n",
    "__add__(self, other) → Overload + operator\n",
    "\n",
    "They help define class behavior in an intuitive and Pythonic way."
   ]
  },
  {
   "cell_type": "markdown",
   "id": "4edda168",
   "metadata": {},
   "source": [
    "## Q6 :  Explain the concept of inheritance in OOPH\n",
    "ANS:\n",
    "    Inheritance in Object-Oriented Programming (OOP) allows a class (child) to inherit attributes and methods from another class (parent). It promotes code reusability and hierarchy representation.\n",
    "\n",
    "Key Points:\n",
    "Single Inheritance: One class inherits from another.\n",
    "\n",
    "Multiple Inheritance: A class inherits from multiple classes.\n",
    "\n",
    "Multilevel Inheritance: A class inherits from a derived class.\n",
    "\n",
    "Hierarchical Inheritance: Multiple classes inherit from a single parent.\n",
    "\n",
    "Hybrid Inheritance: Combination of two or more types of inheritance.\n",
    "\n",
    "🔹 Example in Python:\n",
    "\n",
    "python\n",
    "Copy\n",
    "Edit\n",
    "class Parent:\n",
    "    def display(self):\n",
    "        print(\"Parent class\")\n",
    "\n",
    "class Child(Parent):\n",
    "    pass  # Inherits display() method\n",
    "\n",
    "obj = Child()\n",
    "obj.display()  # Output: Parent class\n",
    "Benefits:\n",
    "✔ Code Reusability\n",
    "✔ Improved Maintainability\n",
    "✔ Establishes a Relationship Between Classes"
   ]
  },
  {
   "cell_type": "markdown",
   "id": "f7a70f8c",
   "metadata": {},
   "source": [
    "## Q7: What is polymorphism in OOP+\n",
    "ANS:\n",
    "    Polymorphism in OOP allows objects of different classes to be treated as objects of a common superclass. It enables a single interface to represent different underlying data types.\n",
    "\n",
    "Types:\n",
    "\n",
    "Compile-time (Method Overloading) – Multiple methods with the same name but different parameters in the same class.\n",
    "\n",
    "Runtime (Method Overriding) – A subclass provides a specific implementation of a method already defined in its superclass.\n",
    "\n",
    "Example:\n",
    "\n",
    "Overloading: void add(int a, int b) and void add(double a, double b).\n",
    "\n",
    "Overriding: class Dog extends Animal { void sound() { System.out.println(\"Bark\"); } }.\n",
    "\n",
    "It enhances flexibility and maintainability in OOP design.\n",
    "    "
   ]
  },
  {
   "cell_type": "markdown",
   "id": "beb6eee3",
   "metadata": {},
   "source": [
    "## Q8: How is encapsulation achieved in Python+\n",
    "ANS:\n",
    "    Encapsulation in Python is achieved using:\n",
    "\n",
    "Private Variables & Methods: Prefix with _ (protected) or __ (private). Example:\n",
    "\n",
    "python\n",
    "Copy\n",
    "Edit\n",
    "class Example:\n",
    "    def __init__(self):\n",
    "        self.__private_var = 10  # Private variable\n",
    "\n",
    "    def __private_method(self):  # Private method\n",
    "        print(\"This is private\")\n",
    "Getters & Setters: Control access to private attributes.\n",
    "\n",
    "python\n",
    "Copy\n",
    "Edit\n",
    "class Example:\n",
    "    def __init__(self):\n",
    "        self.__data = 0\n",
    "\n",
    "    def get_data(self):\n",
    "        return self.__data\n",
    "\n",
    "    def set_data(self, value):\n",
    "        self.__data = value\n",
    "Property Decorators (@property): Manage access dynamically.\n",
    "\n",
    "python\n",
    "Copy\n",
    "Edit\n",
    "class Example:\n",
    "    def __init__(self):\n",
    "        self.__value = 0\n",
    "\n",
    "    @property\n",
    "    def value(self):\n",
    "        return self.__value\n",
    "\n",
    "    @value.setter\n",
    "    def value(self, val):\n",
    "        self.__value = val\n",
    "Encapsulation helps in data hiding and controlled access to class attributes."
   ]
  },
  {
   "cell_type": "markdown",
   "id": "ee4e2b47",
   "metadata": {},
   "source": [
    "## Q9: What is a constructor in Python+\n",
    "ANS:\n",
    "    A constructor in Python is a special method (__init__) that gets called automatically when an object is created. It initializes the object's attributes.\n",
    "\n",
    "Example:\n",
    "\n",
    "python\n",
    "Copy\n",
    "Edit\n",
    "class Example:\n",
    "    def __init__(self, name):\n",
    "        self.name = name\n",
    "\n",
    "obj = Example(\"Python\")\n",
    "Here, __init__ initializes the name attribute when obj is created."
   ]
  },
  {
   "cell_type": "markdown",
   "id": "e6996a7e",
   "metadata": {},
   "source": [
    "##Q10 :H What are class and static methods in Python+\n",
    "ANS:\n",
    "    In Python:\n",
    "\n",
    "Class Method (@classmethod): A method that operates on the class rather than instances. It takes cls as the first parameter and can modify class variables.\n",
    "\n",
    "python\n",
    "Copy\n",
    "Edit\n",
    "class A:\n",
    "    val = 10\n",
    "    \n",
    "    @classmethod\n",
    "    def update_val(cls, new_val):\n",
    "        cls.val = new_val\n",
    "Static Method (@staticmethod): A method that does not depend on the class or instance. It has no self or cls parameter and behaves like a regular function inside the class.\n",
    "\n",
    "python\n",
    "Copy\n",
    "Edit\n",
    "class A:\n",
    "    @staticmethod\n",
    "    def add(x, y):\n",
    "        return x + y\n",
    "Key Difference:\n",
    "\n",
    "@classmethod can modify class state (cls).\n",
    "\n",
    "@staticmethod is independent of class/instance state."
   ]
  },
  {
   "cell_type": "markdown",
   "id": "bf6bc52f",
   "metadata": {},
   "source": [
    "## Q10 :  What is method overloading in Python+\n",
    "ANS:\n",
    "    Method overloading in Python refers to defining multiple methods with the same name but different parameters. However, Python does not support traditional method overloading like Java or C++. Instead, it uses default arguments and *args/**kwargs to achieve similar functionality.\n",
    "\n",
    "Example:\n",
    "python\n",
    "Copy\n",
    "Edit\n",
    "class Example:\n",
    "    def show(self, a=None, b=None):\n",
    "        if a and b:\n",
    "            print(f\"Two arguments: {a}, {b}\")\n",
    "        elif a:\n",
    "            print(f\"One argument: {a}\")\n",
    "        else:\n",
    "            print(\"No arguments\")\n",
    "\n",
    "obj = Example()\n",
    "obj.show()         # No arguments\n",
    "obj.show(10)       # One argument: 10\n",
    "obj.show(10, 20)   # Two arguments: 10, 20\n",
    "This approach allows flexible method behavior without strict overloading rules."
   ]
  },
  {
   "cell_type": "markdown",
   "id": "3ca44040",
   "metadata": {},
   "source": [
    "## Q11 :  What is method overriding in OOP+\n",
    "ANS:\n",
    "    Method overriding in OOP is when a subclass provides a specific implementation of a method that is already defined in its superclass. The overridden method in the subclass must have the same name, return type, and parameters as the method in the superclass.\n",
    "\n",
    "Key Points:\n",
    "Achieved through inheritance.\n",
    "\n",
    "Enables runtime polymorphism.\n",
    "\n",
    "The @Override annotation (in Java) ensures correct overriding.\n",
    "\n",
    "The subclass method must have the same signature as the superclass method.\n",
    "\n",
    "The superclass method should be non-static and not final/private."
   ]
  },
  {
   "cell_type": "markdown",
   "id": "9ba519c7",
   "metadata": {},
   "source": [
    "## Q12: What is Property decorator in python?\n",
    "ANS:\n",
    "    A property decorator (@property) in Python is used to define getter methods in a class, allowing access to a method like an attribute. It helps encapsulate data while maintaining a clean interface.\n",
    "\n",
    "Example:\n",
    "python\n",
    "Copy\n",
    "Edit\n",
    "class Person:\n",
    "    def __init__(self, name):\n",
    "        self._name = name  # Private attribute\n",
    "\n",
    "    @property\n",
    "    def name(self):\n",
    "        return self._name  # Acts as a getter\n",
    "\n",
    "p = Person(\"Rishabh\")\n",
    "print(p.name)  # Access like an attribute\n",
    "Key Benefits:\n",
    "Provides controlled access to private attributes.\n",
    "\n",
    "Allows computed properties.\n",
    "\n",
    "Supports read-only properties by omitting the setter."
   ]
  },
  {
   "cell_type": "markdown",
   "id": "a46580c9",
   "metadata": {},
   "source": [
    "## Q13 : Why is Polymorphism important in OOPS?\n",
    "ANS:\n",
    "\n",
    "Polymorphism in OOP is important because it enhances code reusability, flexibility, and maintainability by allowing objects of different classes to be treated as instances of a common superclass. It enables method overriding (runtime polymorphism) for dynamic behavior and method overloading (compile-time polymorphism) for improved functionality. This simplifies code and supports the Open/Closed Principle, making systems more scalable and adaptable.\n",
    "\n",
    "\n",
    "\n",
    "\n",
    "\n",
    "\n",
    "\n",
    "\n"
   ]
  },
  {
   "cell_type": "markdown",
   "id": "156d6475",
   "metadata": {},
   "source": [
    "## Q14: What is an abstract class in Python+\n",
    "ANS:\n",
    "    An abstract class in Python is a class that cannot be instantiated and serves as a blueprint for other classes. It is defined using the ABC module and contains at least one abstract method (a method without an implementation).\n",
    "\n",
    "Key Points:\n",
    "Use ABC from abc module.\n",
    "\n",
    "Define abstract methods using @abstractmethod.\n",
    "\n",
    "Subclasses must implement all abstract methods.\n",
    "\n",
    "Example:\n",
    "python\n",
    "Copy\n",
    "Edit\n",
    "from abc import ABC, abstractmethod\n",
    "\n",
    "class Animal(ABC):\n",
    "    @abstractmethod\n",
    "    def make_sound(self):\n",
    "        pass\n",
    "\n",
    "class Dog(Animal):\n",
    "    def make_sound(self):\n",
    "        return \"Bark\"\n",
    "\n",
    "dog = Dog()  # Works\n",
    "animal = Animal()  # Error: Cannot instantiate abstract class"
   ]
  },
  {
   "cell_type": "markdown",
   "id": "e905b605",
   "metadata": {},
   "source": [
    "## Q15: \" What are the advantages of OOP+\n",
    "ANS:The advantages of Object-Oriented Programming (OOP) are:\n",
    "\n",
    "Encapsulation – Bundles data and methods together, ensuring data security.\n",
    "\n",
    "Abstraction – Hides complex implementation details, exposing only necessary functionality.\n",
    "\n",
    "Reusability – Promotes code reuse through inheritance, reducing redundancy.\n",
    "\n",
    "Modularity – Enhances maintainability by dividing code into independent objects.\n",
    "\n",
    "Scalability – Simplifies code extension and modification.\n",
    "\n",
    "Polymorphism – Allows multiple implementations via method overloading and overriding.\n",
    "\n",
    "These principles improve code organization, maintainability, and efficiency.\n",
    "\n",
    "\n",
    "\n",
    "\n",
    "\n",
    "\n",
    "\n",
    "\n",
    "\n",
    "    "
   ]
  },
  {
   "cell_type": "markdown",
   "id": "70008d75",
   "metadata": {},
   "source": [
    "## Q16: #H What is the difference between a class variable and an instance variable+\n",
    "ANS:\n",
    "    A class variable is shared among all instances of a class, while an instance variable is unique to each object.\n",
    "\n",
    "Class Variable: Defined inside the class but outside any method, prefixed with className.variable or @classmethod.\n",
    "\n",
    "Instance Variable: Defined inside a constructor (__init__ in Python) and prefixed with self.variable.\n",
    "\n",
    "Example:\n",
    "\n",
    "python\n",
    "Copy\n",
    "Edit\n",
    "class Example:\n",
    "    class_var = 10  # Class variable\n",
    "    \n",
    "    def __init__(self, value):\n",
    "        self.instance_var = value  # Instance variable"
   ]
  },
  {
   "cell_type": "markdown",
   "id": "5ce76a66",
   "metadata": {},
   "source": [
    "## Q17: H What is multiple inheritance in Python+\n",
    "ANS:\n",
    "    Multiple Inheritance in Python:\n",
    "It is a feature where a class can inherit from multiple parent classes, allowing it to access attributes and methods from all of them.\n",
    "\n",
    "Example:\n",
    "\n",
    "python\n",
    "Copy\n",
    "Edit\n",
    "class A:\n",
    "    def show(self):\n",
    "        print(\"A\")\n",
    "\n",
    "class B:\n",
    "    def display(self):\n",
    "        print(\"B\")\n",
    "\n",
    "class C(A, B):\n",
    "    pass\n",
    "\n",
    "obj = C()\n",
    "obj.show()     # Output: A\n",
    "obj.display()  # Output: B\n",
    "Pros:\n",
    "\n",
    "Code reusability\n",
    "\n",
    "Flexibility in design\n",
    "\n",
    "Cons:\n",
    "\n",
    "Increases complexity\n",
    "\n",
    "Can cause method resolution order (MRO) issues"
   ]
  },
  {
   "cell_type": "markdown",
   "id": "9afeb1af",
   "metadata": {},
   "source": [
    "## Q18 : Explain the purpose of ‘’__str__’ and ‘__repr__’ ‘ methods in PythonH\n",
    "ANS:\n",
    "    The __str__ and __repr__ methods in Python are used to define how an object is represented as a string.\n",
    "\n",
    "__str__ (str(obj)): Returns a user-friendly, readable string representation of the object. Used for display purposes.\n",
    "\n",
    "__repr__ (repr(obj)): Returns an unambiguous string representation intended for debugging. Ideally, it should return a string that can recreate the object.\n",
    "\n",
    "If __str__ is not defined, __repr__ is used as a fallback."
   ]
  },
  {
   "cell_type": "markdown",
   "id": "b022b222",
   "metadata": {},
   "source": [
    "## Q19 : What is the significance of the ‘super()’ function in Python+\n",
    "\n",
    "ANS:\n",
    "    The super() function in Python is used to call methods from a parent class, enabling inheritance and method overriding. It helps in:\n",
    "\n",
    "Accessing Parent Methods – Calls the parent class’s methods without explicitly naming it.\n",
    "\n",
    "Multiple Inheritance – Resolves the method resolution order (MRO) correctly.\n",
    "\n",
    "Avoiding Redundancy – Prevents duplicate initialization in case of multiple inherited classes.\n",
    "\n",
    "Example:\n",
    "\n",
    "python\n",
    "Copy\n",
    "Edit\n",
    "class Parent:\n",
    "    def show(self):\n",
    "        print(\"Parent Method\")\n",
    "\n",
    "class Child(Parent):\n",
    "    def show(self):\n",
    "        super().show()  # Calls Parent's show() method\n",
    "        print(\"Child Method\")\n",
    "\n",
    "obj = Child()\n",
    "obj.show()\n",
    "Output:\n",
    "\n",
    "sql\n",
    "Copy\n",
    "Edit\n",
    "Parent Method  \n",
    "Child Method  "
   ]
  },
  {
   "cell_type": "markdown",
   "id": "dca06174",
   "metadata": {},
   "source": [
    "## Q20 : What is the significance of the __del__ method in Python+\n",
    "ANS:\n",
    "The __del__ method in Python is a destructor that is called when an object is about to be destroyed. It is used for cleanup tasks like closing files or releasing resources. However, its use is discouraged due to unpredictable execution timing, as Python's garbage collector may not call it immediately when an object goes out of scope.\n",
    "    "
   ]
  },
  {
   "cell_type": "markdown",
   "id": "4de61715",
   "metadata": {},
   "source": [
    "## Q21: What is the difference between @staticmethod and @classmethod in Python+\n",
    "\n",
    "ANS:\n",
    "    Difference Between @staticmethod and @classmethod in Python:\n",
    "Feature\t@staticmethod\t@classmethod\n",
    "Binding\tNo access to class (cls) or instance (self)\tAccess to class (cls), but not instance (self)\n",
    "Usage\tUtility functions that don’t modify class state\tMethods that operate on class-level data\n",
    "Parameters\tRegular arguments (no self or cls)\tFirst parameter is cls (class reference)\n",
    "Modification\tCannot modify class state\tCan modify class state\n",
    "Example:\n",
    "python\n",
    "Copy\n",
    "Edit\n",
    "class Demo:\n",
    "    class_var = \"Class Level\"\n",
    "\n",
    "    @staticmethod\n",
    "    def static_method():\n",
    "        return \"Static Method - No class access\"\n",
    "\n",
    "    @classmethod\n",
    "    def class_method(cls):\n",
    "        return f\"Class Method - {cls.class_var}\"\n",
    "Use @staticmethod for independent functions inside a class and @classmethod when you need to work with class variables or modify class state.\n",
    "\n",
    "\n",
    "\n",
    "\n",
    "\n",
    "\n",
    "\n",
    "\n",
    "\n"
   ]
  },
  {
   "cell_type": "markdown",
   "id": "e98439d0",
   "metadata": {},
   "source": [
    "## Q22 : How does polymorphism work in Python with inheritance+\n",
    "ANS:\n",
    "\n",
    "Polymorphism in Python with inheritance allows a child class to override methods of the parent class while maintaining a common interface. This enables dynamic method resolution at runtime.\n",
    "\n",
    "Example:\n",
    "python\n",
    "Copy\n",
    "Edit\n",
    "class Animal:\n",
    "    def speak(self):\n",
    "        return \"Some sound\"\n",
    "\n",
    "class Dog(Animal):\n",
    "    def speak(self):\n",
    "        return \"Bark\"\n",
    "\n",
    "class Cat(Animal):\n",
    "    def speak(self):\n",
    "        return \"Meow\"\n",
    "\n",
    "# Polymorphic behavior\n",
    "animals = [Dog(), Cat()]\n",
    "for animal in animals:\n",
    "    print(animal.speak())  # Output: Bark, Meow\n",
    "✅ Key Points:\n",
    "\n",
    "Enables method overriding in derived classes.\n",
    "\n",
    "Supports dynamic method dispatch.\n",
    "\n",
    "Improves code reusability and flexibility."
   ]
  },
  {
   "cell_type": "markdown",
   "id": "0cd33823",
   "metadata": {},
   "source": [
    "## Q23: What is method chaining in Python OOP+\n",
    "ANS: \n",
    "Method chaining in Python OOP refers to calling multiple methods on the same object in a single statement, where each method returns the object itself (usually with self). This allows you to chain method calls together in a fluent, readable style.\n",
    "\n",
    "Example:\n",
    "\n",
    "python\n",
    "Copy\n",
    "Edit\n",
    "class Car:\n",
    "    def start(self):\n",
    "        print(\"Car started\")\n",
    "        return self\n",
    "    \n",
    "    def drive(self):\n",
    "        print(\"Car is driving\")\n",
    "        return self\n",
    "    \n",
    "    def stop(self):\n",
    "        print(\"Car stopped\")\n",
    "        return self\n",
    "\n",
    "car = Car()\n",
    "car.start().drive().stop()\n",
    "Advantages:\n",
    "\n",
    "Increases code readability and conciseness.\n",
    "\n",
    "Helps in reducing the need for temporary variables.\n",
    "    "
   ]
  },
  {
   "cell_type": "markdown",
   "id": "e10ba01b",
   "metadata": {},
   "source": [
    "## Q25 : What is the purpose of the __call__ method in Python?\n",
    "ANS: \n",
    "    The __call__ method in Python allows an instance of a class to be called as if it were a function. It is invoked when the object is called with parentheses, enabling function-like behavior for objects. This method can be useful for implementing custom behavior in callable objects, like in function wrappers or decorators.\n",
    "\n",
    "\n",
    "\n",
    "\n",
    "\n",
    "\n",
    "\n",
    "\n"
   ]
  },
  {
   "cell_type": "markdown",
   "id": "a62ac199",
   "metadata": {},
   "source": [
    "## PRACTICAL QUESTIONS"
   ]
  },
  {
   "cell_type": "code",
   "execution_count": 2,
   "id": "ac1a680f",
   "metadata": {},
   "outputs": [],
   "source": [
    "## Q1 :  Create a parent class Animal with a method speak() that prints a generic message. Create a child class Dog\n",
    "#that overrides the speak() method to print \"Bark!\".\n",
    "\n",
    "class Animal:\n",
    "    def speak(self):\n",
    "        return \"Animal is speaking\"\n",
    "    \n",
    "class Dog(Animal):\n",
    "    def speak(self):\n",
    "        return \"Bark\""
   ]
  },
  {
   "cell_type": "code",
   "execution_count": 3,
   "id": "f67b7a91",
   "metadata": {},
   "outputs": [],
   "source": [
    "d = Dog()"
   ]
  },
  {
   "cell_type": "code",
   "execution_count": 5,
   "id": "7352c9cd",
   "metadata": {},
   "outputs": [
    {
     "data": {
      "text/plain": [
       "'Bark'"
      ]
     },
     "execution_count": 5,
     "metadata": {},
     "output_type": "execute_result"
    }
   ],
   "source": [
    "d.speak()"
   ]
  },
  {
   "cell_type": "code",
   "execution_count": 11,
   "id": "aac18615",
   "metadata": {},
   "outputs": [],
   "source": [
    "## Q2 :  Write a program to create an abstract class Shape with a method area(). Derive classes Circle and Rectangle\n",
    "#from it and implement the area() method in both\n",
    "\n",
    "from abc import ABC , abstractmethod\n",
    "\n",
    "class Shape:\n",
    "    @abstractmethod\n",
    "    def area(self):\n",
    "        pass\n",
    "    \n",
    "    \n"
   ]
  },
  {
   "cell_type": "code",
   "execution_count": 19,
   "id": "f11e1458",
   "metadata": {},
   "outputs": [],
   "source": [
    "class Circle(Shape):\n",
    "     def __init__(self, radius):\n",
    "        self.radius = radius\n",
    "\n",
    "    \n",
    "     def area(self):\n",
    "        print(f\"Area of the Circle: {3.14 * self.radius ** 2}\")\n",
    "        \n",
    "    \n",
    "class Rectangle(Shape):\n",
    "     def __init__(self, lenght, width):\n",
    "        self.lenght =  lenght\n",
    "        self.width = width\n",
    "\n",
    "    \n",
    "     def area(self):\n",
    "        print(\"area of the Rectangle\")"
   ]
  },
  {
   "cell_type": "code",
   "execution_count": 22,
   "id": "f033fd08",
   "metadata": {},
   "outputs": [],
   "source": [
    "c = Circle(45)"
   ]
  },
  {
   "cell_type": "code",
   "execution_count": 23,
   "id": "8741a79a",
   "metadata": {},
   "outputs": [
    {
     "name": "stdout",
     "output_type": "stream",
     "text": [
      "Area of the Circle: 6358.5\n"
     ]
    }
   ],
   "source": [
    "c.area()"
   ]
  },
  {
   "cell_type": "code",
   "execution_count": 24,
   "id": "683ed54c",
   "metadata": {},
   "outputs": [],
   "source": [
    "## Q3: . Implement a multi-level inheritance scenario where a class Vehicle has an attribute type. Derive a class Car\n",
    "#and further derive a class ElectricCar that adds a battery attribute."
   ]
  },
  {
   "cell_type": "code",
   "execution_count": 64,
   "id": "9b689b33",
   "metadata": {},
   "outputs": [],
   "source": [
    "class Vechicle:\n",
    "    def __init__(self,typee):\n",
    "        self.typee = typee\n",
    "        print(f\"the type of vehicle is {self.typee}\")\n",
    "        \n",
    "class Car(Vechicle):\n",
    "    def car_battery(self, h_battery):\n",
    "        self.h_battery = h_battery\n",
    "        print(f\"The battery of this car is {self.h_battery} watt\")\n",
    "        \n",
    "class ElectricCar(Car):\n",
    "    def e_battery(self, ev_battery):\n",
    "        self.ev_battery = ev_battery\n",
    "        print(f\"The battery of electric  car is {self.ev_battery} watt\")"
   ]
  },
  {
   "cell_type": "code",
   "execution_count": 65,
   "id": "e4ec5844",
   "metadata": {},
   "outputs": [
    {
     "name": "stdout",
     "output_type": "stream",
     "text": [
      "the type of vehicle is 4500\n"
     ]
    }
   ],
   "source": [
    "e = ElectricCar(4500)"
   ]
  },
  {
   "cell_type": "code",
   "execution_count": 66,
   "id": "59ea4548",
   "metadata": {},
   "outputs": [
    {
     "name": "stdout",
     "output_type": "stream",
     "text": [
      "the type of vehicle is electric\n"
     ]
    }
   ],
   "source": [
    "v= Vechicle(\"electric\")"
   ]
  },
  {
   "cell_type": "code",
   "execution_count": 67,
   "id": "38f5be73",
   "metadata": {},
   "outputs": [
    {
     "name": "stdout",
     "output_type": "stream",
     "text": [
      "the type of vehicle is petrol\n"
     ]
    }
   ],
   "source": [
    "c = Car(\"petrol\")"
   ]
  },
  {
   "cell_type": "code",
   "execution_count": 68,
   "id": "6c320011",
   "metadata": {},
   "outputs": [
    {
     "name": "stdout",
     "output_type": "stream",
     "text": [
      "The battery of this car is 345 watt\n"
     ]
    }
   ],
   "source": [
    "c.car_battery(345)"
   ]
  },
  {
   "cell_type": "code",
   "execution_count": 69,
   "id": "3a77f853",
   "metadata": {},
   "outputs": [
    {
     "name": "stdout",
     "output_type": "stream",
     "text": [
      "the type of vehicle is diesel\n"
     ]
    }
   ],
   "source": [
    "ev = ElectricCar(\"diesel\")"
   ]
  },
  {
   "cell_type": "code",
   "execution_count": 71,
   "id": "ef1aa4ef",
   "metadata": {},
   "outputs": [
    {
     "name": "stdout",
     "output_type": "stream",
     "text": [
      "The battery of electric  car is 3943 watt\n"
     ]
    }
   ],
   "source": [
    "ev.e_battery(3943)"
   ]
  },
  {
   "cell_type": "code",
   "execution_count": 72,
   "id": "8abddf31",
   "metadata": {},
   "outputs": [],
   "source": [
    "## Q4 :  Demonstrate polymorphism by creating a base class Bird with a method fly(). Create two derived classes\n",
    "#Sparrow and Penguin that override the fly() method"
   ]
  },
  {
   "cell_type": "code",
   "execution_count": 82,
   "id": "5e3aa784",
   "metadata": {},
   "outputs": [],
   "source": [
    "class Bird:\n",
    "    def fly(self):\n",
    "        print(\"Bird class\")\n",
    "        \n",
    "class Sparrow(Bird):\n",
    "    def fly(self):\n",
    "        print(\"Spparow class\")\n",
    "    \n",
    "class Penguin(Bird):\n",
    "    def fly(self):\n",
    "        print(\"Penguin class\")\n",
    "        "
   ]
  },
  {
   "cell_type": "code",
   "execution_count": 79,
   "id": "035085b0",
   "metadata": {},
   "outputs": [],
   "source": [
    "p = Penguin()"
   ]
  },
  {
   "cell_type": "code",
   "execution_count": 80,
   "id": "edc0e11a",
   "metadata": {},
   "outputs": [
    {
     "name": "stdout",
     "output_type": "stream",
     "text": [
      "Penguin class\n"
     ]
    }
   ],
   "source": [
    "p.fly()"
   ]
  },
  {
   "cell_type": "code",
   "execution_count": 81,
   "id": "e4b77034",
   "metadata": {},
   "outputs": [
    {
     "name": "stdout",
     "output_type": "stream",
     "text": [
      "Bird class\n"
     ]
    }
   ],
   "source": [
    "b = Bird()\n",
    "b.fly()"
   ]
  },
  {
   "cell_type": "code",
   "execution_count": 83,
   "id": "53498091",
   "metadata": {},
   "outputs": [],
   "source": [
    "## Q5: Write a program to demonstrate encapsulation by creating a class BankAccount with private attributes\n",
    "#balance and methods to deposit, withdraw, and check balance."
   ]
  },
  {
   "cell_type": "code",
   "execution_count": 108,
   "id": "5bc47501",
   "metadata": {},
   "outputs": [],
   "source": [
    "class BankAccount:\n",
    "    def __init__(self, balance, amount=0):\n",
    "        self.__balance = balance\n",
    "        self.__balance = self.__balance+ amount\n",
    "        \n",
    "    def deposit(self,amount):\n",
    "        if amount > 0:\n",
    "            self.__balance = self.__balance + amount\n",
    "        \n",
    "        \n",
    "    def withdraw(self, amount):\n",
    "        if self.__balance> 0 :\n",
    "            self.__balance = self.__balance - amount\n",
    "            \n",
    "    def check_balance(self):\n",
    "        return self.__balance"
   ]
  },
  {
   "cell_type": "code",
   "execution_count": 109,
   "id": "1e69be12",
   "metadata": {},
   "outputs": [],
   "source": [
    "b = BankAccount(4500)"
   ]
  },
  {
   "cell_type": "code",
   "execution_count": 110,
   "id": "f526ad55",
   "metadata": {},
   "outputs": [
    {
     "data": {
      "text/plain": [
       "4500"
      ]
     },
     "execution_count": 110,
     "metadata": {},
     "output_type": "execute_result"
    }
   ],
   "source": [
    "b._BankAccount__balance"
   ]
  },
  {
   "cell_type": "code",
   "execution_count": 96,
   "id": "e68a515b",
   "metadata": {},
   "outputs": [
    {
     "data": {
      "text/plain": [
       "4500"
      ]
     },
     "execution_count": 96,
     "metadata": {},
     "output_type": "execute_result"
    }
   ],
   "source": [
    "b.check_balance()"
   ]
  },
  {
   "cell_type": "code",
   "execution_count": 97,
   "id": "7474eb55",
   "metadata": {},
   "outputs": [],
   "source": [
    "b.withdraw(500)"
   ]
  },
  {
   "cell_type": "code",
   "execution_count": 100,
   "id": "1c8e13a1",
   "metadata": {},
   "outputs": [
    {
     "data": {
      "text/plain": [
       "4000"
      ]
     },
     "execution_count": 100,
     "metadata": {},
     "output_type": "execute_result"
    }
   ],
   "source": [
    "b.check_balance()"
   ]
  },
  {
   "cell_type": "code",
   "execution_count": 101,
   "id": "ee5ea18e",
   "metadata": {},
   "outputs": [],
   "source": [
    "b.deposit(500)"
   ]
  },
  {
   "cell_type": "code",
   "execution_count": 102,
   "id": "0f787c6a",
   "metadata": {},
   "outputs": [
    {
     "data": {
      "text/plain": [
       "4500"
      ]
     },
     "execution_count": 102,
     "metadata": {},
     "output_type": "execute_result"
    }
   ],
   "source": [
    "b.check_balance()"
   ]
  },
  {
   "cell_type": "code",
   "execution_count": 111,
   "id": "8580e750",
   "metadata": {},
   "outputs": [],
   "source": [
    "## Q6:  Demonstrate runtime polymorphism using a method play() in a base class Instrument. Derive classes Guitar\n",
    "#and Piano that implement their own version of play()."
   ]
  },
  {
   "cell_type": "code",
   "execution_count": 115,
   "id": "89698f2c",
   "metadata": {},
   "outputs": [],
   "source": [
    "class Instrument:\n",
    "    def play(self):\n",
    "        print(\"It is palying\")\n",
    "        \n",
    "class Guitar(Instrument):\n",
    "    def play(self):\n",
    "        print(\"Guitar is playing\")\n",
    "        \n",
    "class Piano(Instrument):\n",
    "    def play(self):\n",
    "        print(\"Piano is playing\")\n",
    "        \n",
    "        \n",
    "    c"
   ]
  },
  {
   "cell_type": "code",
   "execution_count": 116,
   "id": "f8f4e34b",
   "metadata": {},
   "outputs": [],
   "source": [
    "p = Piano()"
   ]
  },
  {
   "cell_type": "code",
   "execution_count": 126,
   "id": "51941871",
   "metadata": {},
   "outputs": [],
   "source": [
    "g = Guitar()"
   ]
  },
  {
   "cell_type": "code",
   "execution_count": 128,
   "id": "6ed8e91f",
   "metadata": {},
   "outputs": [
    {
     "name": "stdout",
     "output_type": "stream",
     "text": [
      "Guitar is playing\n"
     ]
    }
   ],
   "source": [
    "perform(g)"
   ]
  },
  {
   "cell_type": "code",
   "execution_count": 118,
   "id": "45b8c6d2",
   "metadata": {},
   "outputs": [],
   "source": [
    "## Q7:  Create a class MathOperations with a class method add_numbers() to add two numbers and a static\n",
    "#method subtract_numbers() to subtract two numbers"
   ]
  },
  {
   "cell_type": "code",
   "execution_count": 122,
   "id": "3c731cd0",
   "metadata": {},
   "outputs": [],
   "source": [
    "class MathOperations:\n",
    "    @classmethod\n",
    "    def add_numerbs(cls, numbers1, number2):\n",
    "        return(numbers1+ number2)\n",
    "    \n",
    "    @staticmethod\n",
    "    def subtract_numbers(a,b):\n",
    "        return a-b\n",
    "    "
   ]
  },
  {
   "cell_type": "code",
   "execution_count": 124,
   "id": "4374a892",
   "metadata": {},
   "outputs": [
    {
     "data": {
      "text/plain": [
       "9"
      ]
     },
     "execution_count": 124,
     "metadata": {},
     "output_type": "execute_result"
    }
   ],
   "source": [
    "MathOperations.add_numerbs(4,5)"
   ]
  },
  {
   "cell_type": "code",
   "execution_count": 125,
   "id": "e363d485",
   "metadata": {},
   "outputs": [
    {
     "data": {
      "text/plain": [
       "0"
      ]
     },
     "execution_count": 125,
     "metadata": {},
     "output_type": "execute_result"
    }
   ],
   "source": [
    "MathOperations.subtract_numbers(2,2)"
   ]
  },
  {
   "cell_type": "code",
   "execution_count": 129,
   "id": "eb0ba91d",
   "metadata": {},
   "outputs": [],
   "source": [
    "## Q8 :Implement a class Person with a class method to count the total number of persons created.\n"
   ]
  },
  {
   "cell_type": "code",
   "execution_count": 140,
   "id": "c321365f",
   "metadata": {},
   "outputs": [
    {
     "name": "stdout",
     "output_type": "stream",
     "text": [
      "Total persons created: 3\n"
     ]
    }
   ],
   "source": [
    "class Person:\n",
    "    total_persons = 0  # Class variable to count the number of persons\n",
    "\n",
    "    def __init__(self, name, age):\n",
    "        self.name = name\n",
    "        self.age = age\n",
    "        Person.total_persons += 1\n",
    "\n",
    "    @classmethod\n",
    "    def get_total_persons(cls):\n",
    "        return cls.total_persons  \n",
    "\n",
    "person1 = Person(\"Alice\", 30)\n",
    "person2 = Person(\"Bob\", 25)\n",
    "person3 = Person(\"Charlie\", 35)\n",
    "\n",
    "print(\"Total persons created:\", Person.get_total_persons())  \n"
   ]
  },
  {
   "cell_type": "code",
   "execution_count": 141,
   "id": "7c1e2d4e",
   "metadata": {},
   "outputs": [],
   "source": [
    "## Q9:  Write a class Fraction with attributes numerator and denominator. Override the str method to display the\n",
    "#fraction as \"numerator/denominator"
   ]
  },
  {
   "cell_type": "code",
   "execution_count": 145,
   "id": "c79551b7",
   "metadata": {},
   "outputs": [],
   "source": [
    "class Fraction:\n",
    "    def __init__(self, numerator, denominator):\n",
    "        self.numerator = numerator\n",
    "        self.denominator = denominator\n",
    "        \n",
    "        \n",
    "    def __str__(self):\n",
    "         return f\"{self.numerator}/{self.denominator}\""
   ]
  },
  {
   "cell_type": "code",
   "execution_count": 146,
   "id": "8c721f4b",
   "metadata": {},
   "outputs": [],
   "source": [
    "f = Fraction(4,6)"
   ]
  },
  {
   "cell_type": "code",
   "execution_count": 148,
   "id": "77c921a3",
   "metadata": {},
   "outputs": [
    {
     "name": "stdout",
     "output_type": "stream",
     "text": [
      "4/6\n"
     ]
    }
   ],
   "source": [
    "print(f)"
   ]
  },
  {
   "cell_type": "code",
   "execution_count": 150,
   "id": "ca4cdadc",
   "metadata": {},
   "outputs": [],
   "source": [
    "## Q10 :  Demonstrate operator overloading by creating a class Vector and overriding the add method to add two\n",
    "#vectors."
   ]
  },
  {
   "cell_type": "code",
   "execution_count": 155,
   "id": "b35c4f66",
   "metadata": {},
   "outputs": [
    {
     "name": "stdout",
     "output_type": "stream",
     "text": [
      "Vector 1: (2, 3)\n",
      "Vector 2: (4, 5)\n",
      "Resultant Vector: (6, 8)\n"
     ]
    }
   ],
   "source": [
    "class Vector:\n",
    "    def __init__(self, x, y):\n",
    "        self.x = x\n",
    "        self.y = y\n",
    "\n",
    "    def __add__(self, other):\n",
    "        return Vector(self.x + other.x, self.y + other.y)  # Vector addition\n",
    "\n",
    "    def __str__(self):\n",
    "        return f\"({self.x}, {self.y})\"  # String representation\n",
    "\n",
    "\n",
    "vector1 = Vector(2, 3)\n",
    "vector2 = Vector(4, 5)\n",
    "\n",
    "result = vector1 + vector2\n",
    "\n",
    "# Display result\n",
    "print(\"Vector 1:\", vector1)  \n",
    "print(\"Vector 2:\", vector2)  \n",
    "print(\"Resultant Vector:\", result)  \n"
   ]
  },
  {
   "cell_type": "code",
   "execution_count": 156,
   "id": "4356b346",
   "metadata": {},
   "outputs": [],
   "source": [
    "## Q11 :  Create a class Person with attributes name and age. Add a method greet() that prints \"Hello, my name is\n",
    "#{name} and I am {age} years old.\""
   ]
  },
  {
   "cell_type": "code",
   "execution_count": 157,
   "id": "54393d1e",
   "metadata": {},
   "outputs": [],
   "source": [
    "class Person:\n",
    "    def __init__(self, name, age):\n",
    "        self.name = name\n",
    "        self.age = age\n",
    "        \n",
    "        \n",
    "    def greet(self):\n",
    "        print(f\" Hello my name is {self.name} and I am {self.age} years old\")"
   ]
  },
  {
   "cell_type": "code",
   "execution_count": 158,
   "id": "5de86c8a",
   "metadata": {},
   "outputs": [],
   "source": [
    "p  = Person(\"Ajay\", 23)"
   ]
  },
  {
   "cell_type": "code",
   "execution_count": 159,
   "id": "a0852b15",
   "metadata": {},
   "outputs": [
    {
     "name": "stdout",
     "output_type": "stream",
     "text": [
      " Hello my name is Ajay and I am 23 years old\n"
     ]
    }
   ],
   "source": [
    "p.greet()"
   ]
  },
  {
   "cell_type": "code",
   "execution_count": 160,
   "id": "f2a284bf",
   "metadata": {},
   "outputs": [],
   "source": [
    "## Q12 : 2. Implement a class Student with attributes name and grades. Create a method average_grade() to compute\n",
    "#the average of the grades."
   ]
  },
  {
   "cell_type": "code",
   "execution_count": 161,
   "id": "b1e062be",
   "metadata": {},
   "outputs": [],
   "source": [
    "class Student:\n",
    "    def __init__(self, name, grade):\n",
    "        self.name = name\n",
    "        self.grade = grade\n",
    "        \n",
    "        \n",
    "    def average_grade(self):\n",
    "        return sum(self.grade)/ len(self.grade)"
   ]
  },
  {
   "cell_type": "code",
   "execution_count": 162,
   "id": "aa812a75",
   "metadata": {},
   "outputs": [],
   "source": [
    "s = Student(\"ajay\", [45,65,78,32])"
   ]
  },
  {
   "cell_type": "code",
   "execution_count": 163,
   "id": "8c8ee42d",
   "metadata": {},
   "outputs": [
    {
     "data": {
      "text/plain": [
       "55.0"
      ]
     },
     "execution_count": 163,
     "metadata": {},
     "output_type": "execute_result"
    }
   ],
   "source": [
    "s.average_grade()"
   ]
  },
  {
   "cell_type": "code",
   "execution_count": 164,
   "id": "b78bf236",
   "metadata": {},
   "outputs": [],
   "source": [
    "## Q13 :  Create a class Rectangle with methods set_dimensions() to set the dimensions and area() to calculate the "
   ]
  },
  {
   "cell_type": "code",
   "execution_count": 182,
   "id": "e5f721da",
   "metadata": {},
   "outputs": [],
   "source": [
    "class Rectangle:\n",
    "    def set_dimension(self, length , width):\n",
    "        self.length = length\n",
    "        self.width = width\n",
    "        \n",
    "    def area(self):\n",
    "        print(f\"Area of rectangle : {self.length* self.width}\")"
   ]
  },
  {
   "cell_type": "code",
   "execution_count": 183,
   "id": "46f4deea",
   "metadata": {},
   "outputs": [],
   "source": [
    "r = Rectangle()"
   ]
  },
  {
   "cell_type": "code",
   "execution_count": 184,
   "id": "73f192aa",
   "metadata": {},
   "outputs": [],
   "source": [
    "r.set_dimension(45,90)"
   ]
  },
  {
   "cell_type": "code",
   "execution_count": 185,
   "id": "f417d238",
   "metadata": {},
   "outputs": [
    {
     "name": "stdout",
     "output_type": "stream",
     "text": [
      "Area of rectangle : 4050\n"
     ]
    }
   ],
   "source": [
    "r.area()"
   ]
  },
  {
   "cell_type": "code",
   "execution_count": null,
   "id": "25db14eb",
   "metadata": {},
   "outputs": [],
   "source": [
    "## Q14 :  Create a class Employee with a method calculate_salary() that computes the salary based on hours worked\n",
    "#and hourly rate. Create a derived class Manager that adds a bonus to the salary"
   ]
  },
  {
   "cell_type": "code",
   "execution_count": 18,
   "id": "2b19ad4e",
   "metadata": {},
   "outputs": [],
   "source": [
    "class Employee:\n",
    "    def __init__(self, hours_worked, hourly_rate):\n",
    "        self.hours_worked = hours_worked\n",
    "        self.hourly_rate = hourly_rate\n",
    "        \n",
    "        \n",
    "    def calculate_salary(self):\n",
    "        return self.hours_worked* self.hourly_rate\n",
    "    \n",
    "class Manager(Employee):\n",
    "          def __init__(self, name, hours_worked, hourly_rate, bonus):\n",
    "                \n",
    "        # Initialize the Employee part\n",
    "                super().__init__(name, hours_worked, hourly_rate)\n",
    "                self.bonus = bonus\n",
    "        \n",
    "        \n",
    "          def calculate_salary(self):\n",
    "            base_salary = super().calculate_salary()\n",
    "            return base_salary + self.bonus\n",
    "        \n",
    "        "
   ]
  },
  {
   "cell_type": "code",
   "execution_count": 7,
   "id": "d6c499f2",
   "metadata": {},
   "outputs": [],
   "source": [
    "e  = Employee(45,34)"
   ]
  },
  {
   "cell_type": "code",
   "execution_count": 8,
   "id": "ce9df86e",
   "metadata": {},
   "outputs": [
    {
     "data": {
      "text/plain": [
       "1530"
      ]
     },
     "execution_count": 8,
     "metadata": {},
     "output_type": "execute_result"
    }
   ],
   "source": [
    "e.calculate_salary()"
   ]
  },
  {
   "cell_type": "code",
   "execution_count": 20,
   "id": "241b5008",
   "metadata": {},
   "outputs": [
    {
     "data": {
      "text/plain": [
       "34"
      ]
     },
     "execution_count": 20,
     "metadata": {},
     "output_type": "execute_result"
    }
   ],
   "source": [
    "e.hourly_rate"
   ]
  },
  {
   "cell_type": "code",
   "execution_count": null,
   "id": "92674a17",
   "metadata": {},
   "outputs": [],
   "source": [
    "## Q15: Create a class Product with attributes name, price, and quantity. Implement a method total_price() that\n",
    "#calculates the total price of the product."
   ]
  },
  {
   "cell_type": "code",
   "execution_count": 22,
   "id": "39394af1",
   "metadata": {},
   "outputs": [],
   "source": [
    "class Product:\n",
    "    def __init__(self,name, price, quantity):\n",
    "        self.name = name\n",
    "        self.price = price\n",
    "        self.quantity = quantity\n",
    "        \n",
    "        \n",
    "    def total_price(self):\n",
    "        print(f\" The tota lprice of the product is {self.price * self.quantity}\")"
   ]
  },
  {
   "cell_type": "code",
   "execution_count": 23,
   "id": "a899ffcb",
   "metadata": {},
   "outputs": [],
   "source": [
    "p = Product(\"ajay\", 60, 2)"
   ]
  },
  {
   "cell_type": "code",
   "execution_count": 24,
   "id": "32394e4e",
   "metadata": {},
   "outputs": [
    {
     "name": "stdout",
     "output_type": "stream",
     "text": [
      " The tota lprice of the product is 120\n"
     ]
    }
   ],
   "source": [
    "p.total_price()"
   ]
  },
  {
   "cell_type": "code",
   "execution_count": 25,
   "id": "8c50d6ca",
   "metadata": {},
   "outputs": [],
   "source": [
    "### Q16 : Create a class Book with attributes title, author, and year_published. Add a method get_book_info() that\n",
    "#returns a formatted string with the book's details."
   ]
  },
  {
   "cell_type": "code",
   "execution_count": 26,
   "id": "e4089557",
   "metadata": {},
   "outputs": [],
   "source": [
    "class Book:\n",
    "    def __init__(self,title, author, year_published):\n",
    "        self.title = title\n",
    "        self.author = author\n",
    "        self.year_published = year_published\n",
    "        \n",
    "        \n",
    "    def get_book_info(self):\n",
    "        print(f\"Title of the book is {self.title} , Author of the book is {self.author} , and the year the book published is {self.year_published}\")"
   ]
  },
  {
   "cell_type": "code",
   "execution_count": 27,
   "id": "ba448236",
   "metadata": {},
   "outputs": [],
   "source": [
    "b = Book(\"Data Science\", \"Chris Martin\" , 2005)"
   ]
  },
  {
   "cell_type": "code",
   "execution_count": 29,
   "id": "d9d8e45e",
   "metadata": {},
   "outputs": [
    {
     "name": "stdout",
     "output_type": "stream",
     "text": [
      "Title of the book is Data Science , Author of the book is Chris Martin , and the year the book published is 2005\n"
     ]
    }
   ],
   "source": [
    "b.get_book_info()"
   ]
  },
  {
   "cell_type": "code",
   "execution_count": null,
   "id": "a716cd6a",
   "metadata": {},
   "outputs": [],
   "source": [
    "## Q17 :  Create a class House with attributes address and price. Create a derived class Mansion that adds an\n",
    "#attribute number_of_rooms"
   ]
  },
  {
   "cell_type": "code",
   "execution_count": 51,
   "id": "3eebcc8c",
   "metadata": {},
   "outputs": [],
   "source": [
    "class House:\n",
    "    def __init__(self, address, price):\n",
    "        self.address = address\n",
    "        self.price = price\n",
    "        \n",
    "        \n",
    "class Mansion(House):\n",
    "    def info_rooms(self, no_of_rooms):\n",
    "        self.no_of_rooms = no_of_rooms\n",
    "        print(f\"the number of rooms are {self.no_of_rooms} and the price is {self.price}\")"
   ]
  },
  {
   "cell_type": "code",
   "execution_count": 52,
   "id": "8a102d3f",
   "metadata": {},
   "outputs": [],
   "source": [
    "m = Mansion(\"govandi\", 50000)"
   ]
  },
  {
   "cell_type": "code",
   "execution_count": 53,
   "id": "4a6ef089",
   "metadata": {},
   "outputs": [
    {
     "data": {
      "text/plain": [
       "'govandi'"
      ]
     },
     "execution_count": 53,
     "metadata": {},
     "output_type": "execute_result"
    }
   ],
   "source": [
    "m.address"
   ]
  },
  {
   "cell_type": "code",
   "execution_count": 54,
   "id": "5495291b",
   "metadata": {},
   "outputs": [
    {
     "name": "stdout",
     "output_type": "stream",
     "text": [
      "the number of rooms are 5 and the price is 50000\n"
     ]
    }
   ],
   "source": [
    "m.info_rooms(5)"
   ]
  },
  {
   "cell_type": "code",
   "execution_count": 186,
   "id": "5145e5d5",
   "metadata": {},
   "outputs": [],
   "source": [
    "## Q18 : . Create a class Animal with an abstract method sound(). Create two derived classes Cow and Sheep that\n",
    "#implement the sound() method."
   ]
  },
  {
   "cell_type": "code",
   "execution_count": 190,
   "id": "a8e89c5e",
   "metadata": {},
   "outputs": [],
   "source": [
    "from abc import ABC , abstractmethod\n",
    "\n",
    "\n",
    "class Animal(ABC):\n",
    "    @abstractmethod\n",
    "    def sound(self):\n",
    "        pass\n",
    "        \n",
    "class Cow(Animal):\n",
    "    def sound(self):\n",
    "        print(\"Cow sound\")\n",
    "        \n",
    "class Sheep(Animal):\n",
    "    def sound(self):\n",
    "        print(\"Sheep sound\")"
   ]
  },
  {
   "cell_type": "code",
   "execution_count": 191,
   "id": "86015b57",
   "metadata": {},
   "outputs": [],
   "source": [
    "s = Sheep()"
   ]
  },
  {
   "cell_type": "code",
   "execution_count": 192,
   "id": "0ea75e9e",
   "metadata": {},
   "outputs": [
    {
     "name": "stdout",
     "output_type": "stream",
     "text": [
      "Sheep sound\n"
     ]
    }
   ],
   "source": [
    "s.sound()"
   ]
  },
  {
   "cell_type": "code",
   "execution_count": 193,
   "id": "7a5ab655",
   "metadata": {},
   "outputs": [
    {
     "name": "stdout",
     "output_type": "stream",
     "text": [
      "Sheep sound\n"
     ]
    }
   ],
   "source": [
    "s.sound()"
   ]
  },
  {
   "cell_type": "code",
   "execution_count": 194,
   "id": "7615905b",
   "metadata": {},
   "outputs": [],
   "source": [
    "c = Cow()"
   ]
  },
  {
   "cell_type": "code",
   "execution_count": 195,
   "id": "20e64108",
   "metadata": {},
   "outputs": [
    {
     "name": "stdout",
     "output_type": "stream",
     "text": [
      "Cow sound\n"
     ]
    }
   ],
   "source": [
    "c.sound()"
   ]
  },
  {
   "cell_type": "code",
   "execution_count": null,
   "id": "43d9d09f",
   "metadata": {},
   "outputs": [],
   "source": []
  }
 ],
 "metadata": {
  "kernelspec": {
   "display_name": "Python 3 (ipykernel)",
   "language": "python",
   "name": "python3"
  },
  "language_info": {
   "codemirror_mode": {
    "name": "ipython",
    "version": 3
   },
   "file_extension": ".py",
   "mimetype": "text/x-python",
   "name": "python",
   "nbconvert_exporter": "python",
   "pygments_lexer": "ipython3",
   "version": "3.9.13"
  }
 },
 "nbformat": 4,
 "nbformat_minor": 5
}
